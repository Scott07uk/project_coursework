{
 "cells": [
  {
   "cell_type": "code",
   "execution_count": 1,
   "id": "febc44f4",
   "metadata": {},
   "outputs": [],
   "source": [
    "from pytorchvideo.data.encoded_video import EncodedVideo\n",
    "from torchvision.transforms import (\n",
    "    Compose,\n",
    "    Lambda,\n",
    "    RandomCrop,\n",
    "    RandomHorizontalFlip\n",
    ")\n",
    "\n",
    "from pytorchvideo.transforms import (\n",
    "    ApplyTransformToKey,\n",
    "    Normalize,\n",
    "    RandomShortSideScale,\n",
    "    RemoveKey,\n",
    "    ShortSideScale,\n",
    "    UniformTemporalSubsample\n",
    ")\n",
    "import pytorch_lightning\n",
    "import pytorchvideo.models.resnet\n",
    "import torch.nn as nn\n",
    "import pathlib"
   ]
  },
  {
   "cell_type": "code",
   "execution_count": 2,
   "id": "f6df29e3",
   "metadata": {},
   "outputs": [],
   "source": [
    "transform = Compose(\n",
    "  [\n",
    "    ApplyTransformToKey(\n",
    "      key=\"video\",\n",
    "      transform=Compose(\n",
    "        [\n",
    "          UniformTemporalSubsample(8),\n",
    "          Lambda(lambda x: x / 255.0),\n",
    "          Normalize((0.45, 0.45, 0.45), (0.225, 0.225, 0.225)),\n",
    "        ]\n",
    "      ),\n",
    "    ),\n",
    "  ]\n",
    ")\n",
    "\n",
    "device = 'cpu'"
   ]
  },
  {
   "cell_type": "code",
   "execution_count": 3,
   "id": "8db59615",
   "metadata": {},
   "outputs": [],
   "source": [
    "def make_kinetics_resnet():\n",
    "  return pytorchvideo.models.resnet.create_resnet(\n",
    "      input_channel=3, # RGB input from Kinetics\n",
    "      model_depth=50, # For the tutorial let's just use a 50 layer network\n",
    "      model_num_class=2, # Kinetics has 400 classes so we need out final head to align\n",
    "      norm=nn.BatchNorm3d,\n",
    "      activation=nn.ReLU,\n",
    "  )\n",
    "\n",
    "\n",
    "class VideoClassificationLightningModule(pytorch_lightning.LightningModule):\n",
    "  def __init__(self):\n",
    "    super().__init__()\n",
    "    self.model = make_kinetics_resnet()\n",
    "\n",
    "  def forward(self, x):\n",
    "    return self.model(x)\n",
    "\n",
    "  def training_step(self, batch, batch_idx):\n",
    "    # The model expects a video tensor of shape (B, C, T, H, W), which is the\n",
    "    # format provided by the dataset\n",
    "    y_hat = self.model(batch[\"video\"])\n",
    "\n",
    "    # Compute cross entropy loss, loss.backwards will be called behind the scenes\n",
    "    # by PyTorchLightning after being returned from this method.\n",
    "    loss = F.cross_entropy(y_hat, batch[\"label\"])\n",
    "\n",
    "    # Log the train loss to Tensorboard\n",
    "    self.log(\"train_loss\", loss.item())\n",
    "\n",
    "    return loss\n",
    "\n",
    "  def validation_step(self, batch, batch_idx):\n",
    "    y_hat = self.model(batch[\"video\"])\n",
    "    loss = F.cross_entropy(y_hat, batch[\"label\"])\n",
    "    self.log(\"val_loss\", loss)\n",
    "    return loss\n",
    "\n",
    "  def configure_optimizers(self):\n",
    "    \"\"\"\n",
    "    Setup the Adam optimizer. Note, that this function also can return a lr scheduler, which is\n",
    "    usually useful for training video models.\n",
    "    \"\"\"\n",
    "    return torch.optim.Adam(self.parameters(), lr=1e-1)"
   ]
  },
  {
   "cell_type": "code",
   "execution_count": 4,
   "id": "9139a928",
   "metadata": {},
   "outputs": [],
   "source": [
    "classifier = VideoClassificationLightningModule.load_from_checkpoint('/home/scott/Documents/fh/project_coursework/lightning_logs/version_1/checkpoints/epoch=16-step=935.ckpt')"
   ]
  },
  {
   "cell_type": "code",
   "execution_count": 5,
   "id": "f1223d0f",
   "metadata": {},
   "outputs": [],
   "source": [
    "\n",
    "def predict(video_filename):\n",
    "    video = EncodedVideo.from_path(video_filename)\n",
    "\n",
    "\n",
    "    # Select the duration of the clip to load by specifying the start and end duration\n",
    "    # The start_sec should correspond to where the action occurs in the video\n",
    "    start_sec = 0\n",
    "    clip_duration = int(video.duration)\n",
    "    end_sec = start_sec + clip_duration    \n",
    "\n",
    "    # Load the desired clip\n",
    "    video_data = video.get_clip(start_sec=start_sec, end_sec=2)\n",
    "\n",
    "    # Apply a transform to normalize the video input\n",
    "    video_data = transform(video_data)\n",
    "\n",
    "    # Move the inputs to the desired device\n",
    "    inputs = video_data[\"video\"]\n",
    "    inputs = inputs.to(device)\n",
    "\n",
    "    # Pass the input clip through the model\n",
    "    preds_pre_act = classifier(inputs[None, ...])\n",
    "    if preds_pre_act[0][0] > preds_pre_act[0][1]:\n",
    "        return 'day'\n",
    "    else:\n",
    "        return 'night'\n",
    "    "
   ]
  },
  {
   "cell_type": "code",
   "execution_count": 23,
   "id": "2d6cc90b",
   "metadata": {},
   "outputs": [
    {
     "data": {
      "text/plain": [
       "tensor([[ 1.5931, -1.5851]], grad_fn=<ViewBackward0>)"
      ]
     },
     "execution_count": 23,
     "metadata": {},
     "output_type": "execute_result"
    }
   ],
   "source": [
    "preds_pre_act"
   ]
  },
  {
   "cell_type": "code",
   "execution_count": 6,
   "id": "9fee77dd",
   "metadata": {},
   "outputs": [
    {
     "name": "stdout",
     "output_type": "stream",
     "text": [
      "Processing file /mnt/usb/bdd/bdd100k/videos/test/cabc30fc-e7726578.mov\n"
     ]
    },
    {
     "ename": "IndexError",
     "evalue": "index 1 is out of bounds for dimension 0 with size 1",
     "output_type": "error",
     "traceback": [
      "\u001b[0;31m---------------------------------------------------------------------------\u001b[0m",
      "\u001b[0;31mIndexError\u001b[0m                                Traceback (most recent call last)",
      "Input \u001b[0;32mIn [6]\u001b[0m, in \u001b[0;36m<cell line: 7>\u001b[0;34m()\u001b[0m\n\u001b[1;32m      7\u001b[0m \u001b[38;5;28;01mfor\u001b[39;00m file \u001b[38;5;129;01min\u001b[39;00m DIR\u001b[38;5;241m.\u001b[39miterdir():\n\u001b[1;32m      8\u001b[0m     \u001b[38;5;28mprint\u001b[39m(\u001b[38;5;124mf\u001b[39m\u001b[38;5;124m'\u001b[39m\u001b[38;5;124mProcessing file \u001b[39m\u001b[38;5;132;01m{\u001b[39;00mfile\u001b[38;5;132;01m}\u001b[39;00m\u001b[38;5;124m'\u001b[39m)\n\u001b[0;32m----> 9\u001b[0m     result \u001b[38;5;241m=\u001b[39m \u001b[43mpredict\u001b[49m\u001b[43m(\u001b[49m\u001b[43mfile\u001b[49m\u001b[43m)\u001b[49m\n\u001b[1;32m     10\u001b[0m     results[result]\u001b[38;5;241m.\u001b[39mappend(file)\n\u001b[1;32m     12\u001b[0m     file_counter \u001b[38;5;241m+\u001b[39m\u001b[38;5;241m=\u001b[39m \u001b[38;5;241m1\u001b[39m\n",
      "Input \u001b[0;32mIn [5]\u001b[0m, in \u001b[0;36mpredict\u001b[0;34m(video_filename)\u001b[0m\n\u001b[1;32m     21\u001b[0m \u001b[38;5;66;03m# Pass the input clip through the model\u001b[39;00m\n\u001b[1;32m     22\u001b[0m preds_pre_act \u001b[38;5;241m=\u001b[39m classifier(inputs[\u001b[38;5;28;01mNone\u001b[39;00m, \u001b[38;5;241m.\u001b[39m\u001b[38;5;241m.\u001b[39m\u001b[38;5;241m.\u001b[39m])\n\u001b[0;32m---> 23\u001b[0m \u001b[38;5;28;01mif\u001b[39;00m preds_pre_act[\u001b[38;5;241m0\u001b[39m] \u001b[38;5;241m>\u001b[39m \u001b[43mpreds_pre_act\u001b[49m\u001b[43m[\u001b[49m\u001b[38;5;241;43m1\u001b[39;49m\u001b[43m]\u001b[49m:\n\u001b[1;32m     24\u001b[0m     \u001b[38;5;28;01mreturn\u001b[39;00m \u001b[38;5;124m'\u001b[39m\u001b[38;5;124mday\u001b[39m\u001b[38;5;124m'\u001b[39m\n\u001b[1;32m     25\u001b[0m \u001b[38;5;28;01melse\u001b[39;00m:\n",
      "\u001b[0;31mIndexError\u001b[0m: index 1 is out of bounds for dimension 0 with size 1"
     ]
    }
   ],
   "source": [
    "DIR = pathlib.Path('/mnt/usb/bdd/bdd100k/videos/test/')\n",
    "MAX_FILES = 1\n",
    "\n",
    "file_counter = 0\n",
    "results = {'day': [], 'night': []}\n",
    "\n",
    "for file in DIR.iterdir():\n",
    "    print(f'Processing file {file}')\n",
    "    result = predict(file)\n",
    "    results[result].append(file)\n",
    "    \n",
    "    file_counter += 1\n",
    "    if file_counter >= MAX_FILES:\n",
    "        break\n",
    "        \n",
    "print('done')\n",
    "    "
   ]
  }
 ],
 "metadata": {
  "kernelspec": {
   "display_name": "Python 3",
   "language": "python",
   "name": "python3"
  },
  "language_info": {
   "codemirror_mode": {
    "name": "ipython",
    "version": 3
   },
   "file_extension": ".py",
   "mimetype": "text/x-python",
   "name": "python",
   "nbconvert_exporter": "python",
   "pygments_lexer": "ipython3",
   "version": "3.8.13"
  }
 },
 "nbformat": 4,
 "nbformat_minor": 5
}
